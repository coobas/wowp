{
 "cells": [
  {
   "cell_type": "markdown",
   "metadata": {},
   "source": [
    "# Massive tree workflow"
   ]
  },
  {
   "cell_type": "markdown",
   "metadata": {},
   "source": [
    "This tutorial how to create a massive tree of actors, here doing a simple operation:\n",
    "summing integers in the range [0, 2^(n+1)]. Just change the power parameter to make\n",
    "the tree more complex.\n",
    "\n",
    "This workflow works reasonably for power up to ~15."
   ]
  },
  {
   "cell_type": "code",
   "execution_count": null,
   "metadata": {
    "collapsed": false
   },
   "outputs": [],
   "source": [
    "from wowp.actors import FuncActor\n",
    "from wowp.schedulers import ThreadedScheduler\n",
    "from wowp.components import draw_graph\n",
    "\n",
    "%pylab inline --no-import-all"
   ]
  },
  {
   "cell_type": "code",
   "execution_count": null,
   "metadata": {
    "collapsed": true
   },
   "outputs": [],
   "source": [
    "# How many branching will be there:\n",
    "power = 15"
   ]
  },
  {
   "cell_type": "code",
   "execution_count": null,
   "metadata": {
    "collapsed": true
   },
   "outputs": [],
   "source": [
    "# Basic building blocks\n",
    "def add(a, b) -> ('a'):\n",
    "    return a + b\n",
    "\n",
    "leaves = []\n",
    "\n",
    "def split(act, depth):\n",
    "    global leaves\n",
    "    if depth == 0:\n",
    "        leaves.append(act)\n",
    "    else:\n",
    "        child1 = FuncActor(add)\n",
    "        child2 = FuncActor(add)\n",
    "        child1.outports.a.connect(act.inports.a)\n",
    "        child2.outports.a.connect(act.inports.b)\n",
    "        split(child1, depth-1)\n",
    "        split(child2, depth-1)"
   ]
  },
  {
   "cell_type": "code",
   "execution_count": null,
   "metadata": {
    "collapsed": true
   },
   "outputs": [],
   "source": [
    "# Create the actor\n",
    "last = FuncActor(add)\n",
    "split(last, power)"
   ]
  },
  {
   "cell_type": "code",
   "execution_count": null,
   "metadata": {
    "collapsed": false
   },
   "outputs": [],
   "source": [
    "# Let's draw the graph of actors\n",
    "graph = last.graph\n",
    "plt.subplots(figsize=(12, 8))\n",
    "draw_graph(graph)"
   ]
  },
  {
   "cell_type": "code",
   "execution_count": null,
   "metadata": {
    "collapsed": false
   },
   "outputs": [],
   "source": [
    "# from wowp.tools.plotting import ipy_show (old style)\n",
    "# ipy_show(last)"
   ]
  },
  {
   "cell_type": "code",
   "execution_count": null,
   "metadata": {
    "collapsed": false
   },
   "outputs": [],
   "source": [
    "# We have 64 inports, let's sum number 1..64\n",
    "\n",
    "# (in threads)\n",
    "scheduler = ThreadedScheduler(max_threads=8)\n",
    "\n",
    "for i, actor in enumerate(leaves):\n",
    "    scheduler.put_value(actor.inports.a, i * 2 + 1)\n",
    "    scheduler.put_value(actor.inports.b, i * 2 + 2)\n",
    "\n",
    "scheduler.execute()\n",
    "print(\"Result: \", last.outports.a.pop())"
   ]
  },
  {
   "cell_type": "code",
   "execution_count": null,
   "metadata": {
    "collapsed": false
   },
   "outputs": [],
   "source": [
    "# Check the result (obtained in a somewhat ;-) better way)\n",
    "sum(range(1, 2 * 2**power + 1))"
   ]
  }
 ],
 "metadata": {
  "kernelspec": {
   "display_name": "Python 3",
   "language": "python",
   "name": "python3"
  },
  "language_info": {
   "codemirror_mode": {
    "name": "ipython",
    "version": 3
   },
   "file_extension": ".py",
   "mimetype": "text/x-python",
   "name": "python",
   "nbconvert_exporter": "python",
   "pygments_lexer": "ipython3",
   "version": "3.4.3"
  }
 },
 "nbformat": 4,
 "nbformat_minor": 0
}
