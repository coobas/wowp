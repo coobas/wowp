{
 "cells": [
  {
   "cell_type": "markdown",
   "metadata": {},
   "source": [
    "# Tutorial: IPython Cluster Scheduler\n",
    "\n",
    "IPython cluster consists of one or more engines running as *individual processes* on local or remote computers. This brings a number of advantages, such as scalability or safety. However, only *picklable* (serializable) actors can be used. For exaple, lamda functions are not picklable and thus FuncActor with lamba (or interactively defined) function cannot be used.\n",
    "\n",
    "**Important**: You must start ipython cluster first. Either use the Clusters tab in the main Jupyter screen or follow the [documentation](http://ipython.org/ipython-doc/stable/parallel/parallel_process.html)."
   ]
  },
  {
   "cell_type": "markdown",
   "metadata": {},
   "source": [
    "### Create a trivial workflow with numpy actors"
   ]
  },
  {
   "cell_type": "code",
   "execution_count": 1,
   "metadata": {
    "collapsed": false
   },
   "outputs": [],
   "source": [
    "from numpy.random import random_sample\n",
    "from numpy import dot\n",
    "from numpy.linalg import norm, det"
   ]
  },
  {
   "cell_type": "code",
   "execution_count": 2,
   "metadata": {
    "collapsed": true
   },
   "outputs": [],
   "source": [
    "from wowp.actors import FuncActor"
   ]
  },
  {
   "cell_type": "code",
   "execution_count": 3,
   "metadata": {
    "collapsed": true
   },
   "outputs": [],
   "source": [
    "dims = 4, 4\n",
    "A = random_sample(dims)\n",
    "B = random_sample(dims)"
   ]
  },
  {
   "cell_type": "code",
   "execution_count": 4,
   "metadata": {
    "collapsed": false
   },
   "outputs": [],
   "source": [
    "dot_actor = FuncActor(dot, inports=('a', 'b'))\n",
    "det_actor = FuncActor(det)"
   ]
  },
  {
   "cell_type": "code",
   "execution_count": 5,
   "metadata": {
    "collapsed": false
   },
   "outputs": [],
   "source": [
    "det_actor.inports['a'] += dot_actor.outports['out']\n",
    "wf = det_actor.get_workflow()"
   ]
  },
  {
   "cell_type": "markdown",
   "metadata": {},
   "source": [
    "### Try to run with default scheduler"
   ]
  },
  {
   "cell_type": "code",
   "execution_count": 6,
   "metadata": {
    "collapsed": false
   },
   "outputs": [],
   "source": [
    "wf_res = wf(a=A, b=B)\n",
    "assert wf_res['out'][0] == det(dot(A, B))"
   ]
  },
  {
   "cell_type": "markdown",
   "metadata": {},
   "source": [
    "### Try the IPython Cluster scheduler"
   ]
  },
  {
   "cell_type": "code",
   "execution_count": 7,
   "metadata": {
    "collapsed": true
   },
   "outputs": [],
   "source": [
    "from wowp.schedulers import IPyClusterScheduler"
   ]
  },
  {
   "cell_type": "code",
   "execution_count": 8,
   "metadata": {
    "collapsed": false
   },
   "outputs": [],
   "source": [
    "wf_res = wf(scheduler_=IPyClusterScheduler(), a=A, b=B)\n",
    "assert wf_res['out'][0] == det(dot(A, B))"
   ]
  },
  {
   "cell_type": "code",
   "execution_count": null,
   "metadata": {
    "collapsed": true
   },
   "outputs": [],
   "source": []
  }
 ],
 "metadata": {
  "kernelspec": {
   "display_name": "Python 3",
   "language": "python",
   "name": "python3"
  },
  "language_info": {
   "codemirror_mode": {
    "name": "ipython",
    "version": 3
   },
   "file_extension": ".py",
   "mimetype": "text/x-python",
   "name": "python",
   "nbconvert_exporter": "python",
   "pygments_lexer": "ipython3",
   "version": "3.4.3"
  }
 },
 "nbformat": 4,
 "nbformat_minor": 0
}
