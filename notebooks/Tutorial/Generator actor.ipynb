{
 "cells": [
  {
   "cell_type": "markdown",
   "metadata": {},
   "source": [
    "# Generator-like actors"
   ]
  },
  {
   "cell_type": "code",
   "execution_count": 1,
   "metadata": {
    "collapsed": true
   },
   "outputs": [],
   "source": [
    "%load_ext autoreload\n",
    "%autoreload 2"
   ]
  },
  {
   "cell_type": "code",
   "execution_count": 2,
   "metadata": {
    "collapsed": true
   },
   "outputs": [],
   "source": [
    "from wowp.actors.experimental import LineReader\n",
    "from wowp.schedulers import LinearizedScheduler"
   ]
  },
  {
   "cell_type": "code",
   "execution_count": 21,
   "metadata": {
    "collapsed": false
   },
   "outputs": [
    {
     "name": "stdout",
     "output_type": "stream",
     "text": [
      "Overwriting shakespeare.txt\n"
     ]
    }
   ],
   "source": [
    "%%file shakespeare.txt\n",
    "Shall I compare thee to a summer’s day?\n",
    "Thou art more lovely and more temperate:\n",
    "Rough winds do shake the darling buds of May,\n",
    "And summer’s lease hath all too short a date:\n",
    "Sometime too hot the eye of heaven shines,\n",
    "And often is his gold complexion dimm’d;\n",
    "And every fair from fair sometime declines,\n",
    "By chance or nature’s changing course untrimm’d;\n",
    "But thy eternal summer shall not fade\n",
    "Nor lose possession of that fair thou owest;\n",
    "Nor shall Death brag thou wander’st in his shade,\n",
    "When in eternal lines to time thou growest:\n",
    "So long as men can breathe or eyes can see,\n",
    "So long lives this and this gives life to thee."
   ]
  },
  {
   "cell_type": "code",
   "execution_count": 22,
   "metadata": {
    "collapsed": false
   },
   "outputs": [],
   "source": [
    "reader = LineReader()\n",
    "scheduler = LinearizedScheduler()"
   ]
  },
  {
   "cell_type": "code",
   "execution_count": 26,
   "metadata": {
    "collapsed": true
   },
   "outputs": [],
   "source": [
    "scheduler.put_value(reader.inports.path, \"shakespeare.txt\")\n",
    "scheduler.execute()"
   ]
  },
  {
   "cell_type": "code",
   "execution_count": 27,
   "metadata": {
    "collapsed": false
   },
   "outputs": [
    {
     "name": "stdout",
     "output_type": "stream",
     "text": [
      "Output #1: Shall I compare thee to a summer’s day?\n",
      "Output #2: Thou art more lovely and more temperate:\n",
      "Output #3: Rough winds do shake the darling buds of May,\n",
      "Output #4: And summer’s lease hath all too short a date:\n",
      "Output #5: Sometime too hot the eye of heaven shines,\n",
      "Output #6: And often is his gold complexion dimm’d;\n",
      "Output #7: And every fair from fair sometime declines,\n",
      "Output #8: By chance or nature’s changing course untrimm’d;\n",
      "Output #9: But thy eternal summer shall not fade\n",
      "Output #10: Nor lose possession of that fair thou owest;\n",
      "Output #11: Nor shall Death brag thou wander’st in his shade,\n",
      "Output #12: When in eternal lines to time thou growest:\n",
      "Output #13: So long as men can breathe or eyes can see,\n",
      "Output #14: So long lives this and this gives life to thee.\n"
     ]
    }
   ],
   "source": [
    "port = reader.outports[\"line\"]\n",
    "i = 1\n",
    "while not port.isempty():\n",
    "    print(\"Output #%d: %s\" % (i, port.pop()))\n",
    "    i += 1"
   ]
  }
 ],
 "metadata": {
  "kernelspec": {
   "display_name": "Python 3",
   "language": "python",
   "name": "python3"
  },
  "language_info": {
   "codemirror_mode": {
    "name": "ipython",
    "version": 3
   },
   "file_extension": ".py",
   "mimetype": "text/x-python",
   "name": "python",
   "nbconvert_exporter": "python",
   "pygments_lexer": "ipython3",
   "version": "3.4.3"
  }
 },
 "nbformat": 4,
 "nbformat_minor": 0
}
