{
 "cells": [
  {
   "cell_type": "markdown",
   "metadata": {},
   "source": [
    "# Julia methods as actors"
   ]
  },
  {
   "cell_type": "markdown",
   "metadata": {},
   "source": [
    "**Requirements:** PyCall, pyjulia"
   ]
  },
  {
   "cell_type": "code",
   "execution_count": 1,
   "metadata": {
    "collapsed": false
   },
   "outputs": [],
   "source": [
    "%load_ext autoreload\n",
    "%autoreload(2)"
   ]
  },
  {
   "cell_type": "code",
   "execution_count": 2,
   "metadata": {
    "collapsed": true
   },
   "outputs": [],
   "source": [
    "from wowp.actors.julia import JuliaMethod\n",
    "from wowp.schedulers import LinearizedScheduler\n",
    "import numpy as np"
   ]
  },
  {
   "cell_type": "markdown",
   "metadata": {},
   "source": [
    "## Simple calling"
   ]
  },
  {
   "cell_type": "code",
   "execution_count": 3,
   "metadata": {
    "collapsed": false
   },
   "outputs": [
    {
     "data": {
      "text/plain": [
       "2.0"
      ]
     },
     "execution_count": 3,
     "metadata": {},
     "output_type": "execute_result"
    }
   ],
   "source": [
    "sqrt = JuliaMethod(\"sqrt\", inports=\"a\")\n",
    "sqrt(4)"
   ]
  },
  {
   "cell_type": "markdown",
   "metadata": {},
   "source": [
    "## Calling on numpy arrays"
   ]
  },
  {
   "cell_type": "code",
   "execution_count": 4,
   "metadata": {
    "collapsed": false
   },
   "outputs": [
    {
     "data": {
      "text/plain": [
       "array([[ 0.81698787,  0.62958974,  0.88896111,  0.94228041,  0.7122345 ],\n",
       "       [ 0.7487566 ,  0.89026623,  0.6646635 ,  0.95888315,  0.79889142],\n",
       "       [ 0.81541781,  0.72291517,  0.98658867,  0.92325251,  0.72675485],\n",
       "       [ 0.38424982,  0.94999526,  0.47267868,  0.35454016,  0.16124045],\n",
       "       [ 0.82816266,  0.75291426,  0.67140565,  0.8741716 ,  0.80376571]])"
      ]
     },
     "execution_count": 4,
     "metadata": {},
     "output_type": "execute_result"
    }
   ],
   "source": [
    "sqrt = JuliaMethod(\"sqrt\", inports=\"a\")\n",
    "\n",
    "array = np.random.rand(5, 5)\n",
    "scheduler = LinearizedScheduler()\n",
    "scheduler.put_value(sqrt.inports.a, array)\n",
    "scheduler.execute()\n",
    "sqrt.outports.result.pop()"
   ]
  },
  {
   "cell_type": "markdown",
   "metadata": {},
   "source": [
    "## Chain sqrt method to pass numpy arrays"
   ]
  },
  {
   "cell_type": "code",
   "execution_count": 5,
   "metadata": {
    "collapsed": false
   },
   "outputs": [
    {
     "data": {
      "text/plain": [
       "array([[ 0.89297378,  0.98111455,  0.93098508,  0.99167704,  0.9145368 ],\n",
       "       [ 0.99198595,  0.90823154,  0.91498147,  0.89229372,  0.79410293],\n",
       "       [ 0.93072651,  0.73233775,  0.61051038,  0.89162012,  0.98378698],\n",
       "       [ 0.99416325,  0.8326235 ,  0.92652858,  0.84859751,  0.67992983],\n",
       "       [ 0.98926214,  0.97013604,  0.59582316,  0.42559714,  0.99660929]])"
      ]
     },
     "execution_count": 5,
     "metadata": {},
     "output_type": "execute_result"
    }
   ],
   "source": [
    "sqrt = JuliaMethod(\"sqrt\", inports=\"a\")\n",
    "sqrt2 = JuliaMethod(\"sqrt\", inports=\"a\")\n",
    "\n",
    "sqrt.outports.result.connect(sqrt2.inports.a)\n",
    "\n",
    "array = np.random.rand(5, 5)\n",
    "scheduler = LinearizedScheduler()\n",
    "scheduler.put_value(sqrt.inports.a, array)\n",
    "scheduler.execute()\n",
    "sqrt2.outports.result.pop()"
   ]
  },
  {
   "cell_type": "code",
   "execution_count": null,
   "metadata": {
    "collapsed": true
   },
   "outputs": [],
   "source": []
  }
 ],
 "metadata": {
  "kernelspec": {
   "display_name": "Python 3",
   "language": "python",
   "name": "python3"
  },
  "language_info": {
   "codemirror_mode": {
    "name": "ipython",
    "version": 3
   },
   "file_extension": ".py",
   "mimetype": "text/x-python",
   "name": "python",
   "nbconvert_exporter": "python",
   "pygments_lexer": "ipython3",
   "version": "3.4.3"
  }
 },
 "nbformat": 4,
 "nbformat_minor": 0
}
