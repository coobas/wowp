{
 "cells": [
  {
   "cell_type": "markdown",
   "metadata": {},
   "source": [
    "# Basic wowp usage"
   ]
  },
  {
   "cell_type": "markdown",
   "metadata": {},
   "source": [
    "## Turning functions into actors"
   ]
  },
  {
   "cell_type": "markdown",
   "metadata": {},
   "source": [
    "### 1. Define a function\n",
    "\n",
    "We will define a simple `times2` function. Annotations (see [PEP 3107](https://www.python.org/dev/peps/pep-3107/)) will be used for output port names."
   ]
  },
  {
   "cell_type": "code",
   "execution_count": 2,
   "metadata": {
    "collapsed": true
   },
   "outputs": [],
   "source": [
    "def times2(x) -> ('y'):\n",
    "    '''Multiplies the input by 2\n",
    "    '''\n",
    "    return x * 2"
   ]
  },
  {
   "cell_type": "markdown",
   "metadata": {},
   "source": [
    "### 2. Turn the function into an *actor*"
   ]
  },
  {
   "cell_type": "code",
   "execution_count": 3,
   "metadata": {
    "collapsed": true
   },
   "outputs": [],
   "source": [
    "from wowp.actors import FuncActor\n",
    "\n",
    "times2_actor = FuncActor(times2)"
   ]
  },
  {
   "cell_type": "markdown",
   "metadata": {},
   "source": [
    "### 3. Inspect actor's input and output ports\n",
    "\n",
    "Input / output ports are accessible via `inports` and `outports` properties."
   ]
  },
  {
   "cell_type": "code",
   "execution_count": 7,
   "metadata": {
    "collapsed": false
   },
   "outputs": [
    {
     "name": "stdout",
     "output_type": "stream",
     "text": [
      "input  ports: ['x']\n",
      "output ports: ['y']\n"
     ]
    }
   ],
   "source": [
    "print('input  ports: {}'.format(times2_actor.inports.keys()))\n",
    "print('output ports: {}'.format(times2_actor.outports.keys()))"
   ]
  },
  {
   "cell_type": "markdown",
   "metadata": {},
   "source": [
    "### 4. FuncActor is callable"
   ]
  },
  {
   "cell_type": "code",
   "execution_count": 10,
   "metadata": {
    "collapsed": false
   },
   "outputs": [
    {
     "name": "stdout",
     "output_type": "stream",
     "text": [
      "times2(3) = 6\n",
      "times2_actor(3) = 6\n"
     ]
    }
   ],
   "source": [
    "x = 3\n",
    "print('times2({}) = {}'.format(x, times2(x)))\n",
    "print('times2_actor({}) = {}'.format(x, times2_actor(x)))\n",
    "assert times2(x) == times2_actor(x)"
   ]
  },
  {
   "cell_type": "markdown",
   "metadata": {},
   "source": [
    "## Simple workflows\n",
    "\n",
    "1. Workflows are created by connecting actor ports (input ports to output ports).\n",
    "2. Ports get connected using the **`+=`** operator (`inport += outport`)."
   ]
  },
  {
   "cell_type": "markdown",
   "metadata": {},
   "source": [
    "### Two actors chained together\n",
    "\n",
    "Let's try something like `x -> actor1 -> actor2 -> out`."
   ]
  },
  {
   "cell_type": "code",
   "execution_count": 23,
   "metadata": {
    "collapsed": false
   },
   "outputs": [],
   "source": [
    "# create two FuncActors\n",
    "actor1 = FuncActor(lambda x: x * 2)\n",
    "actor2 = FuncActor(lambda x: x + 1)\n",
    "\n",
    "# chain the actors\n",
    "# FuncActor output port is by default called out\n",
    "actor2.inports['x'] += actor1.outports['out']"
   ]
  },
  {
   "cell_type": "markdown",
   "metadata": {},
   "source": [
    "Provide an input value using the `put` method of input port(s)."
   ]
  },
  {
   "cell_type": "code",
   "execution_count": 25,
   "metadata": {
    "collapsed": false
   },
   "outputs": [
    {
     "name": "stdout",
     "output_type": "stream",
     "text": [
      "The result for x = 4 is 9\n"
     ]
    }
   ],
   "source": [
    "# put an input value\n",
    "x = 4\n",
    "actor1.inports['x'].put(x)\n",
    "# the workflow should have finished, now get the output\n",
    "y = actor2.outports['out'].pop()\n",
    "print('The result for x = {} is {}'.format(x, y))\n",
    "# check the results\n",
    "assert y == x * 2 + 1"
   ]
  },
  {
   "cell_type": "markdown",
   "metadata": {},
   "source": [
    "## Creating a custom actor"
   ]
  },
  {
   "cell_type": "code",
   "execution_count": 11,
   "metadata": {
    "collapsed": true
   },
   "outputs": [],
   "source": [
    "from wowp import Actor"
   ]
  },
  {
   "cell_type": "code",
   "execution_count": 14,
   "metadata": {
    "collapsed": true
   },
   "outputs": [],
   "source": [
    "class StrActor(Actor):\n",
    "    def __init__(self, *args, **kwargs):\n",
    "        super(StrActor, self).__init__(*args, **kwargs)\n",
    "        # specify input port\n",
    "        self.inports.append('input')\n",
    "        # and output ports\n",
    "        self.outports.append('output')\n",
    "    def on_input(self):\n",
    "        # call fire if any input is available\n",
    "        self.fire()\n",
    "    def fire(self):\n",
    "        self.outports['output'].put(str(self.inports['input'].pop()))"
   ]
  },
  {
   "cell_type": "code",
   "execution_count": 15,
   "metadata": {
    "collapsed": false
   },
   "outputs": [],
   "source": [
    "actor = StrActor(name='str_actor')"
   ]
  },
  {
   "cell_type": "code",
   "execution_count": 16,
   "metadata": {
    "collapsed": false
   },
   "outputs": [],
   "source": [
    "actor.inports['input'].put(123)"
   ]
  },
  {
   "cell_type": "code",
   "execution_count": 17,
   "metadata": {
    "collapsed": false
   },
   "outputs": [
    {
     "data": {
      "text/plain": [
       "'123'"
      ]
     },
     "execution_count": 17,
     "metadata": {},
     "output_type": "execute_result"
    }
   ],
   "source": [
    "actor.outports['output'].pop()"
   ]
  },
  {
   "cell_type": "code",
   "execution_count": null,
   "metadata": {
    "collapsed": true
   },
   "outputs": [],
   "source": []
  }
 ],
 "metadata": {
  "kernelspec": {
   "display_name": "Python 3",
   "language": "python",
   "name": "python3"
  },
  "language_info": {
   "codemirror_mode": {
    "name": "ipython",
    "version": 3
   },
   "file_extension": ".py",
   "mimetype": "text/x-python",
   "name": "python",
   "nbconvert_exporter": "python",
   "pygments_lexer": "ipython3",
   "version": "3.4.3"
  }
 },
 "nbformat": 4,
 "nbformat_minor": 0
}
