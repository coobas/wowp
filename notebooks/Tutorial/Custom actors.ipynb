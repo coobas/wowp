{
 "cells": [
  {
   "cell_type": "markdown",
   "metadata": {},
   "source": [
    "# Custom actors\n",
    "## Creating a custom actor class"
   ]
  },
  {
   "cell_type": "code",
   "execution_count": 1,
   "metadata": {
    "collapsed": true
   },
   "outputs": [],
   "source": [
    "from wowp import Actor"
   ]
  },
  {
   "cell_type": "markdown",
   "metadata": {},
   "source": [
    "Every actor must implement `get_run_args` and `run` methods:\n",
    "* `get_run_args` returns an (args, kwargs) tuple for the later `run(*args, **kwargs)` call. This method is responsible for getting (popping) values from input ports. `args` and `kwargs` needs to be serializable for subprocess-based schedulers (e.g. IPython cluster).\n",
    "* The `run` method gets the input arguments returned by `get_run_args`. The output must be a dictionary with output port names as keys. `run` must be decorated by `@staticmethod` or `@classmethod` in order to be serializable---this is necessary for subprocess-based schedulers (e.g. IPython cluster).\n",
    "* The result of `run` must be a `dict` (like) object, whose keys are output port names.\n",
    "Optional, these methods might be overridden:\n",
    "* `can_run` returns True if the actor is ready to be run (usually when it has received enough inputs). `can_run` is called whenever a new input arrives (on an input port). By default, `can_run` waits for values on all connected ports.\n"
   ]
  },
  {
   "cell_type": "code",
   "execution_count": 2,
   "metadata": {
    "collapsed": true
   },
   "outputs": [],
   "source": [
    "class StrActor(Actor):\n",
    "\n",
    "    def __init__(self, *args, **kwargs):\n",
    "        super(StrActor, self).__init__(*args, **kwargs)\n",
    "        # specify input port\n",
    "        self.inports.append('input')\n",
    "        # and output ports\n",
    "        self.outports.append('output')\n",
    "        \n",
    "    def get_run_args(self):\n",
    "        # get input value(s) using .pop()\n",
    "        args = (self.inports['input'].pop(), )\n",
    "        kwargs = {}\n",
    "        return args, kwargs\n",
    "\n",
    "    @staticmethod\n",
    "    def run(value):\n",
    "        # return a dictionary with port names as keys\n",
    "        res = {'output': str(value)}\n",
    "        return res"
   ]
  },
  {
   "cell_type": "markdown",
   "metadata": {},
   "source": [
    "Create an instance."
   ]
  },
  {
   "cell_type": "code",
   "execution_count": 3,
   "metadata": {
    "collapsed": false
   },
   "outputs": [],
   "source": [
    "actor = StrActor(name='str_actor')"
   ]
  },
  {
   "cell_type": "markdown",
   "metadata": {},
   "source": [
    "Test the actor by direct call."
   ]
  },
  {
   "cell_type": "code",
   "execution_count": 4,
   "metadata": {
    "collapsed": false
   },
   "outputs": [
    {
     "name": "stdout",
     "output_type": "stream",
     "text": [
      "{'output': '123'}\n"
     ]
    }
   ],
   "source": [
    "# we can call the actor directly -- see what's output\n",
    "value = 123\n",
    "print(actor(input=value))"
   ]
  },
  {
   "cell_type": "code",
   "execution_count": 5,
   "metadata": {
    "collapsed": false
   },
   "outputs": [],
   "source": [
    "# and check that the output is as expected\n",
    "assert actor(input=value)['output'] == str(value)"
   ]
  },
  {
   "cell_type": "markdown",
   "metadata": {},
   "source": [
    "## Using in a workflow"
   ]
  },
  {
   "cell_type": "code",
   "execution_count": 6,
   "metadata": {
    "collapsed": true
   },
   "outputs": [],
   "source": [
    "from wowp.actors import FuncActor"
   ]
  },
  {
   "cell_type": "code",
   "execution_count": 7,
   "metadata": {
    "collapsed": false
   },
   "outputs": [],
   "source": [
    "# use randint as input to out StrActor\n",
    "import random\n",
    "rand = FuncActor(random.randint)"
   ]
  },
  {
   "cell_type": "code",
   "execution_count": 8,
   "metadata": {
    "collapsed": false
   },
   "outputs": [],
   "source": [
    "actor.inports['input'] += rand.outports['out']"
   ]
  },
  {
   "cell_type": "code",
   "execution_count": 9,
   "metadata": {
    "collapsed": false
   },
   "outputs": [],
   "source": [
    "# get the workflow\n",
    "wf = actor.get_workflow()"
   ]
  },
  {
   "cell_type": "code",
   "execution_count": 10,
   "metadata": {
    "collapsed": false
   },
   "outputs": [
    {
     "data": {
      "text/plain": [
       "{'output': deque(['5'])}"
      ]
     },
     "execution_count": 10,
     "metadata": {},
     "output_type": "execute_result"
    }
   ],
   "source": [
    "# and execute\n",
    "wf(a=0, b=5)"
   ]
  }
 ],
 "metadata": {
  "kernelspec": {
   "display_name": "Python 3",
   "language": "python",
   "name": "python3"
  },
  "language_info": {
   "codemirror_mode": {
    "name": "ipython",
    "version": 3
   },
   "file_extension": ".py",
   "mimetype": "text/x-python",
   "name": "python",
   "nbconvert_exporter": "python",
   "pygments_lexer": "ipython3",
   "version": "3.4.3"
  }
 },
 "nbformat": 4,
 "nbformat_minor": 0
}
