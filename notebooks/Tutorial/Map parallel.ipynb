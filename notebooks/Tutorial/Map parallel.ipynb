{
 "cells": [
  {
   "cell_type": "markdown",
   "metadata": {},
   "source": [
    "# Map with WOW:-P\n",
    "\n",
    "We will show a classical [map](https://en.wikipedia.org/wiki/Map_%28parallel_pattern%29) operation with wowp, inluding a parallel run using ipyparallel scheduler."
   ]
  },
  {
   "cell_type": "markdown",
   "metadata": {},
   "source": [
    "We will use FuncActor as a test actor. Map is inside wowp.actors.mapreduce."
   ]
  },
  {
   "cell_type": "code",
   "execution_count": 1,
   "metadata": {
    "collapsed": false
   },
   "outputs": [],
   "source": [
    "from wowp.actors import FuncActor\n",
    "from wowp.schedulers import LinearizedScheduler, IPyClusterScheduler\n",
    "from wowp.actors.mapreduce import Map"
   ]
  },
  {
   "cell_type": "code",
   "execution_count": 2,
   "metadata": {
    "collapsed": true
   },
   "outputs": [],
   "source": [
    "# numpy will perform some calculations\n",
    "import numpy as np"
   ]
  },
  {
   "cell_type": "markdown",
   "metadata": {},
   "source": [
    "The Map actor takes as the main argument the actor class (i.e. not an instance) and the arguments (positional and keyword) for the actor \\_\\_init\\_\\_ function. We will map numpy.sin."
   ]
  },
  {
   "cell_type": "code",
   "execution_count": 3,
   "metadata": {
    "collapsed": false
   },
   "outputs": [],
   "source": [
    "map_actor = Map(\n",
    "    FuncActor,\n",
    "    args=(np.sin, ),\n",
    "    scheduler=LinearizedScheduler())"
   ]
  },
  {
   "cell_type": "markdown",
   "metadata": {},
   "source": [
    "Now create a sample input array and run the map actor, first with a linear (sequential) scheduler:"
   ]
  },
  {
   "cell_type": "code",
   "execution_count": 4,
   "metadata": {
    "collapsed": true
   },
   "outputs": [],
   "source": [
    "inp = np.linspace(0, np.pi, 10)"
   ]
  },
  {
   "cell_type": "markdown",
   "metadata": {},
   "source": [
    "... and check the results"
   ]
  },
  {
   "cell_type": "code",
   "execution_count": 5,
   "metadata": {
    "collapsed": false
   },
   "outputs": [],
   "source": [
    "results = map_actor(inp=inp)\n",
    "assert np.allclose(np.sin(inp), results['out'])"
   ]
  },
  {
   "cell_type": "markdown",
   "metadata": {},
   "source": [
    "Now do the same *in parallel* using IPyClusterScheduler (do not forget to **start an ipyparallel cluster**):"
   ]
  },
  {
   "cell_type": "code",
   "execution_count": 6,
   "metadata": {
    "collapsed": false
   },
   "outputs": [],
   "source": [
    "map_parallel = Map(\n",
    "    FuncActor,\n",
    "    args=(np.sin, ),\n",
    "    scheduler=IPyClusterScheduler())"
   ]
  },
  {
   "cell_type": "code",
   "execution_count": 7,
   "metadata": {
    "collapsed": true
   },
   "outputs": [],
   "source": [
    "results_p = map_parallel(inp=inp)\n",
    "assert np.allclose(np.sin(inp), results_p['out'])"
   ]
  },
  {
   "cell_type": "markdown",
   "metadata": {},
   "source": [
    "### Is it really running in parallel?\n",
    "\n",
    "Simply check with annotating inputs with host and pid."
   ]
  },
  {
   "cell_type": "code",
   "execution_count": 8,
   "metadata": {
    "collapsed": true
   },
   "outputs": [],
   "source": [
    "from wowp.actors.mapreduce import PassWID"
   ]
  },
  {
   "cell_type": "markdown",
   "metadata": {},
   "source": [
    "PassWID will output an informative dict with host and pid."
   ]
  },
  {
   "cell_type": "code",
   "execution_count": 9,
   "metadata": {
    "collapsed": false
   },
   "outputs": [
    {
     "data": {
      "text/plain": [
       "{'out': {'host': 'fred.localdomain', 'inp': 1, 'pid': 29935}}"
      ]
     },
     "execution_count": 9,
     "metadata": {},
     "output_type": "execute_result"
    }
   ],
   "source": [
    "# this will be our current process\n",
    "PassWID()(inp=1)"
   ]
  },
  {
   "cell_type": "code",
   "execution_count": 10,
   "metadata": {
    "collapsed": false
   },
   "outputs": [],
   "source": [
    "pid_act = Map(PassWID, scheduler=LinearizedScheduler())"
   ]
  },
  {
   "cell_type": "code",
   "execution_count": 11,
   "metadata": {
    "collapsed": false
   },
   "outputs": [
    {
     "data": {
      "text/plain": [
       "({'host': 'fred.localdomain', 'inp': 0, 'pid': 29935},\n",
       " {'host': 'fred.localdomain', 'inp': 1, 'pid': 29935},\n",
       " {'host': 'fred.localdomain', 'inp': 2, 'pid': 29935})"
      ]
     },
     "execution_count": 11,
     "metadata": {},
     "output_type": "execute_result"
    }
   ],
   "source": [
    "# With LinearizedScheduler, this will still be the same process.\n",
    "pid_act(inp=range(3))['out']"
   ]
  },
  {
   "cell_type": "markdown",
   "metadata": {},
   "source": [
    "Let's try IPyClusterScheduler---observe the pid's!"
   ]
  },
  {
   "cell_type": "code",
   "execution_count": 12,
   "metadata": {
    "collapsed": false
   },
   "outputs": [],
   "source": [
    "pid_act_parallel = Map(PassWID, scheduler=IPyClusterScheduler())"
   ]
  },
  {
   "cell_type": "code",
   "execution_count": 13,
   "metadata": {
    "collapsed": false
   },
   "outputs": [
    {
     "data": {
      "text/plain": [
       "({'host': 'fred.localdomain', 'inp': 0, 'pid': 29611},\n",
       " {'host': 'fred.localdomain', 'inp': 1, 'pid': 29612},\n",
       " {'host': 'fred.localdomain', 'inp': 2, 'pid': 29610},\n",
       " {'host': 'fred.localdomain', 'inp': 3, 'pid': 29611},\n",
       " {'host': 'fred.localdomain', 'inp': 4, 'pid': 29612},\n",
       " {'host': 'fred.localdomain', 'inp': 5, 'pid': 29610})"
      ]
     },
     "execution_count": 13,
     "metadata": {},
     "output_type": "execute_result"
    }
   ],
   "source": [
    "pid_act_parallel(inp=range(6))['out']"
   ]
  }
 ],
 "metadata": {
  "kernelspec": {
   "display_name": "Python 3",
   "language": "python",
   "name": "python3"
  },
  "language_info": {
   "codemirror_mode": {
    "name": "ipython",
    "version": 3
   },
   "file_extension": ".py",
   "mimetype": "text/x-python",
   "name": "python",
   "nbconvert_exporter": "python",
   "pygments_lexer": "ipython3",
   "version": "3.5.1"
  }
 },
 "nbformat": 4,
 "nbformat_minor": 0
}
