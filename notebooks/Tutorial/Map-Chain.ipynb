{
 "cells": [
  {
   "cell_type": "markdown",
   "metadata": {},
   "source": [
    "# Map a Chain\n",
    "\n"
   ]
  },
  {
   "cell_type": "markdown",
   "metadata": {},
   "source": [
    "Parallel Map can be also applied to a Chain of actors :-P"
   ]
  },
  {
   "cell_type": "code",
   "execution_count": 1,
   "metadata": {
    "collapsed": false
   },
   "outputs": [],
   "source": [
    "from wowp.actors import FuncActor\n",
    "from wowp.schedulers import LinearizedScheduler, IPyClusterScheduler\n",
    "from wowp.actors.mapreduce import Map\n",
    "from wowp.actors.experimental import Chain\n",
    "from wowp.util import ConstructorWrapper\n",
    "from wowp.actors.mapreduce import PassWID"
   ]
  },
  {
   "cell_type": "code",
   "execution_count": 2,
   "metadata": {
    "collapsed": true
   },
   "outputs": [],
   "source": [
    "# numpy will perform some calculations\n",
    "import numpy as np"
   ]
  },
  {
   "cell_type": "markdown",
   "metadata": {},
   "source": [
    "ConstructorWrapper is handy and in fact necessary for Chain."
   ]
  },
  {
   "cell_type": "code",
   "execution_count": 3,
   "metadata": {
    "collapsed": true
   },
   "outputs": [],
   "source": [
    "Sin = ConstructorWrapper(FuncActor, np.sin)\n",
    "Annotate = ConstructorWrapper(PassWID)"
   ]
  },
  {
   "cell_type": "markdown",
   "metadata": {},
   "source": [
    "Calculate sin first and then annotate using PassWID."
   ]
  },
  {
   "cell_type": "code",
   "execution_count": 4,
   "metadata": {
    "collapsed": true
   },
   "outputs": [],
   "source": [
    "chain = Chain('chain', (Sin, Annotate))"
   ]
  },
  {
   "cell_type": "markdown",
   "metadata": {},
   "source": [
    "We can just \\_\\_call\\_\\_ the chain actor."
   ]
  },
  {
   "cell_type": "code",
   "execution_count": 5,
   "metadata": {
    "collapsed": false
   },
   "outputs": [
    {
     "data": {
      "text/plain": [
       "{'host': 'fred.localdomain', 'inp': 1.0, 'pid': 30891}"
      ]
     },
     "execution_count": 5,
     "metadata": {},
     "output_type": "execute_result"
    }
   ],
   "source": [
    "chain(inp=np.pi/2)['out']"
   ]
  },
  {
   "cell_type": "markdown",
   "metadata": {},
   "source": [
    "We can, however, use Map with Chain:"
   ]
  },
  {
   "cell_type": "code",
   "execution_count": 6,
   "metadata": {
    "collapsed": false
   },
   "outputs": [],
   "source": [
    "map_parallel = Map(\n",
    "    Chain,\n",
    "    args=('chain', (Sin, Annotate), ),\n",
    "    scheduler=IPyClusterScheduler())"
   ]
  },
  {
   "cell_type": "code",
   "execution_count": 7,
   "metadata": {
    "collapsed": false
   },
   "outputs": [],
   "source": [
    "inp = np.linspace(0, np.pi, 10)\n",
    "results_p = map_parallel(inp=inp)"
   ]
  },
  {
   "cell_type": "markdown",
   "metadata": {},
   "source": [
    "... and the calculations are clearly executed in different processes :-P"
   ]
  },
  {
   "cell_type": "code",
   "execution_count": 8,
   "metadata": {
    "collapsed": false
   },
   "outputs": [
    {
     "data": {
      "text/plain": [
       "({'host': 'fred.localdomain', 'inp': 0.0, 'pid': 29610},\n",
       " {'host': 'fred.localdomain', 'inp': 0.34202014332566871, 'pid': 29611},\n",
       " {'host': 'fred.localdomain', 'inp': 0.64278760968653925, 'pid': 29612},\n",
       " {'host': 'fred.localdomain', 'inp': 0.8660254037844386, 'pid': 29610},\n",
       " {'host': 'fred.localdomain', 'inp': 0.98480775301220802, 'pid': 29611},\n",
       " {'host': 'fred.localdomain', 'inp': 0.98480775301220802, 'pid': 29611},\n",
       " {'host': 'fred.localdomain', 'inp': 0.86602540378443871, 'pid': 29612},\n",
       " {'host': 'fred.localdomain', 'inp': 0.64278760968653947, 'pid': 29610},\n",
       " {'host': 'fred.localdomain', 'inp': 0.34202014332566888, 'pid': 29611},\n",
       " {'host': 'fred.localdomain', 'inp': 1.2246467991473532e-16, 'pid': 29612})"
      ]
     },
     "execution_count": 8,
     "metadata": {},
     "output_type": "execute_result"
    }
   ],
   "source": [
    "results_p['out']"
   ]
  }
 ],
 "metadata": {
  "kernelspec": {
   "display_name": "Python 3",
   "language": "python",
   "name": "python3"
  },
  "language_info": {
   "codemirror_mode": {
    "name": "ipython",
    "version": 3
   },
   "file_extension": ".py",
   "mimetype": "text/x-python",
   "name": "python",
   "nbconvert_exporter": "python",
   "pygments_lexer": "ipython3",
   "version": "3.5.1"
  }
 },
 "nbformat": 4,
 "nbformat_minor": 0
}
