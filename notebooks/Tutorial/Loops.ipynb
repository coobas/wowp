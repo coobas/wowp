{
 "cells": [
  {
   "cell_type": "markdown",
   "metadata": {},
   "source": [
    "# Loops in WOW:-P"
   ]
  },
  {
   "cell_type": "code",
   "execution_count": 14,
   "metadata": {
    "collapsed": false
   },
   "outputs": [],
   "source": [
    "from wowp.schedulers import *\n",
    "from wowp.actors import LoopWhile, FuncActor"
   ]
  },
  {
   "cell_type": "code",
   "execution_count": 15,
   "metadata": {
    "collapsed": true
   },
   "outputs": [],
   "source": [
    "def condition(value):\n",
    "    return value < 5"
   ]
  },
  {
   "cell_type": "code",
   "execution_count": 16,
   "metadata": {
    "collapsed": false
   },
   "outputs": [],
   "source": [
    "def dump(inp, message=\"dump\"):\n",
    "    print(message)\n",
    "    print(inp)\n",
    "    print(\"---\")\n",
    "    return inp"
   ]
  },
  {
   "cell_type": "code",
   "execution_count": 17,
   "metadata": {
    "collapsed": true
   },
   "outputs": [],
   "source": [
    "condition_actor = FuncActor(condition)"
   ]
  },
  {
   "cell_type": "code",
   "execution_count": 18,
   "metadata": {
    "collapsed": false
   },
   "outputs": [],
   "source": [
    "looper = LoopWhile(condition_func=condition)"
   ]
  },
  {
   "cell_type": "code",
   "execution_count": 19,
   "metadata": {
    "collapsed": true
   },
   "outputs": [],
   "source": [
    "@FuncActor\n",
    "def inc1(inp):\n",
    "    return inp + 1"
   ]
  },
  {
   "cell_type": "code",
   "execution_count": 20,
   "metadata": {
    "collapsed": true
   },
   "outputs": [],
   "source": [
    "dump1 = FuncActor(dump, kwargs={\"message\": \"in loop\"})\n",
    "dump2 = FuncActor(dump, kwargs={\"message\": \"exit\"})"
   ]
  },
  {
   "cell_type": "code",
   "execution_count": 21,
   "metadata": {
    "collapsed": false
   },
   "outputs": [],
   "source": [
    "inc1.inports.inp += looper.outports.loop\n",
    "dump1.inports.inp += inc1.outports.out\n",
    "looper.inports.loop += dump1.outports.out\n",
    "dump2.inports.inp += looper.outports.exit"
   ]
  },
  {
   "cell_type": "markdown",
   "metadata": {},
   "source": [
    "With condition actor"
   ]
  },
  {
   "cell_type": "code",
   "execution_count": 10,
   "metadata": {
    "collapsed": false
   },
   "outputs": [
    {
     "name": "stderr",
     "output_type": "stream",
     "text": [
      "connecting an already connected actor <wowp.components.OutPort object at 0x000000649C8647F0>\n",
      "connecting an already connected actor <wowp.components.OutPort object at 0x000000649C864BA8>\n",
      "connecting an already connected actor <wowp.components.OutPort object at 0x000000649C8D24A8>\n",
      "connecting an already connected actor <wowp.components.OutPort object at 0x000000649C8648D0>\n"
     ]
    }
   ],
   "source": [
    "inc1.inports.inp += looper.outports.loop\n",
    "dump1.inports.inp += inc1.outports.out\n",
    "looper.inports.loop += dump1.outports.out\n",
    "looper.inports.condition_out += condition_actor.outports.out\n",
    "condition_actor.inports.value += looper.outports.condition_in\n",
    "dump2.inports.inp += looper.outports.exit"
   ]
  },
  {
   "cell_type": "code",
   "execution_count": 22,
   "metadata": {
    "collapsed": true
   },
   "outputs": [],
   "source": [
    "wf = dump2.get_workflow()"
   ]
  },
  {
   "cell_type": "code",
   "execution_count": 23,
   "metadata": {
    "collapsed": false
   },
   "outputs": [
    {
     "data": {
      "text/plain": [
       "['init', 'condition_out']"
      ]
     },
     "execution_count": 23,
     "metadata": {},
     "output_type": "execute_result"
    }
   ],
   "source": [
    "wf.inports.keys()"
   ]
  },
  {
   "cell_type": "code",
   "execution_count": 24,
   "metadata": {
    "collapsed": false
   },
   "outputs": [
    {
     "name": "stdout",
     "output_type": "stream",
     "text": [
      "in loop\n",
      "1\n",
      "---\n",
      "in loop\n",
      "2\n",
      "---\n",
      "in loop\n",
      "3\n",
      "---\n",
      "in loop\n",
      "4\n",
      "---\n",
      "in loop\n",
      "5\n",
      "---\n",
      "exit\n",
      "5\n",
      "---\n"
     ]
    }
   ],
   "source": [
    "res = wf(init=0)"
   ]
  },
  {
   "cell_type": "code",
   "execution_count": null,
   "metadata": {
    "collapsed": true
   },
   "outputs": [],
   "source": []
  }
 ],
 "metadata": {
  "kernelspec": {
   "display_name": "Python 3",
   "language": "python",
   "name": "python3"
  },
  "language_info": {
   "codemirror_mode": {
    "name": "ipython",
    "version": 3
   },
   "file_extension": ".py",
   "mimetype": "text/x-python",
   "name": "python",
   "nbconvert_exporter": "python",
   "pygments_lexer": "ipython3",
   "version": "3.6.0"
  }
 },
 "nbformat": 4,
 "nbformat_minor": 0
}
