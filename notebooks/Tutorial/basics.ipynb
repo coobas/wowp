{
 "cells": [
  {
   "cell_type": "markdown",
   "metadata": {},
   "source": [
    "# Basic wowp usage"
   ]
  },
  {
   "cell_type": "markdown",
   "metadata": {},
   "source": [
    "## Turning functions into actors"
   ]
  },
  {
   "cell_type": "markdown",
   "metadata": {},
   "source": [
    "### 1. Define a function\n",
    "\n",
    "We will define a simple `times2` function. Annotations (see [PEP 3107](https://www.python.org/dev/peps/pep-3107/)) will be used for output port names."
   ]
  },
  {
   "cell_type": "code",
   "execution_count": 1,
   "metadata": {
    "collapsed": true
   },
   "outputs": [],
   "source": [
    "def times2(x) -> ('y'):\n",
    "    '''Multiplies the input by 2\n",
    "    '''\n",
    "    return x * 2"
   ]
  },
  {
   "cell_type": "markdown",
   "metadata": {},
   "source": [
    "### 2. Turn the function into an *actor*"
   ]
  },
  {
   "cell_type": "code",
   "execution_count": 2,
   "metadata": {
    "collapsed": false
   },
   "outputs": [],
   "source": [
    "from wowp.actors import FuncActor\n",
    "\n",
    "times2_actor = FuncActor(times2)"
   ]
  },
  {
   "cell_type": "markdown",
   "metadata": {},
   "source": [
    "### 3. Inspect actor's input and output ports\n",
    "\n",
    "Input / output ports are accessible via `inports` and `outports` properties."
   ]
  },
  {
   "cell_type": "code",
   "execution_count": 3,
   "metadata": {
    "collapsed": false
   },
   "outputs": [
    {
     "name": "stdout",
     "output_type": "stream",
     "text": [
      "input  ports: ['x']\n",
      "output ports: ['y']\n"
     ]
    }
   ],
   "source": [
    "print('input  ports: {}'.format(times2_actor.inports.keys()))\n",
    "print('output ports: {}'.format(times2_actor.outports.keys()))"
   ]
  },
  {
   "cell_type": "markdown",
   "metadata": {},
   "source": [
    "### 4. FuncActor is callable"
   ]
  },
  {
   "cell_type": "code",
   "execution_count": 4,
   "metadata": {
    "collapsed": false
   },
   "outputs": [
    {
     "name": "stdout",
     "output_type": "stream",
     "text": [
      "times2(3) = 6\n",
      "times2_actor(3) = 6\n"
     ]
    }
   ],
   "source": [
    "x = 3\n",
    "print('times2({}) = {}'.format(x, times2(x)))\n",
    "print('times2_actor({}) = {}'.format(x, times2_actor(x)))\n",
    "assert times2(x) == times2_actor(x)"
   ]
  },
  {
   "cell_type": "markdown",
   "metadata": {},
   "source": [
    "## Simple workflows\n",
    "\n",
    "1. Workflows are created by connecting actor ports (input ports to output ports).\n",
    "2. Ports get connected using the **`+=`** operator (`inport += outport`).\n",
    "\n",
    "*Better workflow creation will be implemented soon. `Actor.get_workflow` will create a workflow *automagically*. It will also be possible to create wokflows *explicitely*, e.g. in cases when `get_workflow` cannot be used.* "
   ]
  },
  {
   "cell_type": "markdown",
   "metadata": {},
   "source": [
    "### Two actors chained together\n",
    "\n",
    "Let's try something like `x -> actor1 -> actor2 -> out`."
   ]
  },
  {
   "cell_type": "code",
   "execution_count": 5,
   "metadata": {
    "collapsed": false
   },
   "outputs": [],
   "source": [
    "# create two FuncActors\n",
    "actor1 = FuncActor(lambda x: x * 2)\n",
    "actor2 = FuncActor(lambda x: x + 1)\n",
    "\n",
    "# chain the actors\n",
    "# FuncActor output port is by default called out\n",
    "actor2.inports['x'] += actor1.outports['out']"
   ]
  },
  {
   "cell_type": "markdown",
   "metadata": {},
   "source": [
    "Get the resulting workflow."
   ]
  },
  {
   "cell_type": "code",
   "execution_count": 6,
   "metadata": {
    "collapsed": false
   },
   "outputs": [],
   "source": [
    "wf = actor1.get_workflow()"
   ]
  },
  {
   "cell_type": "markdown",
   "metadata": {},
   "source": [
    "Execute the workflow just like an actor."
   ]
  },
  {
   "cell_type": "code",
   "execution_count": 7,
   "metadata": {
    "collapsed": false
   },
   "outputs": [
    {
     "data": {
      "text/plain": [
       "{'out': deque([7])}"
      ]
     },
     "execution_count": 7,
     "metadata": {},
     "output_type": "execute_result"
    }
   ],
   "source": [
    "wf(x=3)"
   ]
  },
  {
   "cell_type": "markdown",
   "metadata": {},
   "source": [
    "## Creating a custom actor"
   ]
  },
  {
   "cell_type": "code",
   "execution_count": 8,
   "metadata": {
    "collapsed": true
   },
   "outputs": [],
   "source": [
    "from wowp import Actor"
   ]
  },
  {
   "cell_type": "markdown",
   "metadata": {},
   "source": [
    "Every actor must implement `get_run_args` and `run` methods:\n",
    "* `get_run_args` returns an (args, kwargs) tuple for the later `run(*args, **kwargs)` call. This method is responsible for getting (popping) values from input ports. `args` and `kwargs` needs to be serializable for subprocess-based schedulers (e.g. IPython cluster).\n",
    "* The `run` method gets the input arguments returned by `get_run_args`. The output must be a dictionary with output port names as keys. `run` must be decorated by `@staticmethod` or `@classmethod` in order to be serializable---this is necessary for subprocess-based schedulers (e.g. IPython cluster).\n",
    "* The result of `run` must be a `dict` (like) object, whose keys are output port names.\n",
    "Optional, these methods might be overridden:\n",
    "* `can_run` returns True if the actor is ready to be run (usually when it has received enough inputs). `can_run` is called whenever a new input arrives (on an input port). By default, `can_run` waits for values on all connected ports.\n"
   ]
  },
  {
   "cell_type": "code",
   "execution_count": 9,
   "metadata": {
    "collapsed": true
   },
   "outputs": [],
   "source": [
    "class StrActor(Actor):\n",
    "\n",
    "    def __init__(self, *args, **kwargs):\n",
    "        super(StrActor, self).__init__(*args, **kwargs)\n",
    "        # specify input port\n",
    "        self.inports.append('input')\n",
    "        # and output ports\n",
    "        self.outports.append('output')\n",
    "        \n",
    "    def get_run_args(self):\n",
    "        # get input value(s) using .pop()\n",
    "        args = (self.inports['input'].pop(), )\n",
    "        kwargs = {}\n",
    "        return args, kwargs\n",
    "\n",
    "    @staticmethod\n",
    "    def run(value):\n",
    "        # return a dictionary with port names as keys\n",
    "        res = {'output': str(value)}\n",
    "        return res"
   ]
  },
  {
   "cell_type": "markdown",
   "metadata": {},
   "source": [
    "Create an instance."
   ]
  },
  {
   "cell_type": "code",
   "execution_count": 10,
   "metadata": {
    "collapsed": false
   },
   "outputs": [],
   "source": [
    "actor = StrActor(name='str_actor')"
   ]
  },
  {
   "cell_type": "markdown",
   "metadata": {},
   "source": [
    "Test the actor by direct call."
   ]
  },
  {
   "cell_type": "code",
   "execution_count": 11,
   "metadata": {
    "collapsed": false
   },
   "outputs": [
    {
     "name": "stdout",
     "output_type": "stream",
     "text": [
      "{'output': '123'}\n"
     ]
    }
   ],
   "source": [
    "# we can call the actor directly -- see what's output\n",
    "value = 123\n",
    "print(actor(input=value))\n",
    "# and check that the output is as expected\n",
    "assert actor(input=value)['output'] == str(value)"
   ]
  }
 ],
 "metadata": {
  "kernelspec": {
   "display_name": "Python 3",
   "language": "python",
   "name": "python3"
  },
  "language_info": {
   "codemirror_mode": {
    "name": "ipython",
    "version": 3
   },
   "file_extension": ".py",
   "mimetype": "text/x-python",
   "name": "python",
   "nbconvert_exporter": "python",
   "pygments_lexer": "ipython3",
   "version": "3.4.3"
  }
 },
 "nbformat": 4,
 "nbformat_minor": 0
}
