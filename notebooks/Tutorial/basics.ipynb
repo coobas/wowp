{
 "cells": [
  {
   "cell_type": "markdown",
   "metadata": {},
   "source": [
    "# Basic wowp usage"
   ]
  },
  {
   "cell_type": "markdown",
   "metadata": {},
   "source": [
    "## Turning functions into actors"
   ]
  },
  {
   "cell_type": "markdown",
   "metadata": {},
   "source": [
    "### 1. Define a function\n",
    "\n",
    "We will define a simple `times2` function. Annotations (see [PEP 3107](https://www.python.org/dev/peps/pep-3107/)) will be used for output port names."
   ]
  },
  {
   "cell_type": "code",
   "execution_count": 1,
   "metadata": {
    "collapsed": true
   },
   "outputs": [],
   "source": [
    "def times2(x) -> ('y'):\n",
    "    '''Multiplies the input by 2\n",
    "    '''\n",
    "    return x * 2"
   ]
  },
  {
   "cell_type": "markdown",
   "metadata": {},
   "source": [
    "### 2. Turn the function into an *actor*"
   ]
  },
  {
   "cell_type": "code",
   "execution_count": 2,
   "metadata": {
    "collapsed": false
   },
   "outputs": [],
   "source": [
    "from wowp.actors import FuncActor\n",
    "\n",
    "times2_actor = FuncActor(times2)"
   ]
  },
  {
   "cell_type": "markdown",
   "metadata": {},
   "source": [
    "### 3. Inspect actor's input and output ports\n",
    "\n",
    "Input / output ports are accessible via `inports` and `outports` properties."
   ]
  },
  {
   "cell_type": "code",
   "execution_count": 3,
   "metadata": {
    "collapsed": false
   },
   "outputs": [
    {
     "name": "stdout",
     "output_type": "stream",
     "text": [
      "input  ports: ['x']\n",
      "output ports: ['y']\n"
     ]
    }
   ],
   "source": [
    "print('input  ports: {}'.format(times2_actor.inports.keys()))\n",
    "print('output ports: {}'.format(times2_actor.outports.keys()))"
   ]
  },
  {
   "cell_type": "markdown",
   "metadata": {},
   "source": [
    "### 4. FuncActor is callable"
   ]
  },
  {
   "cell_type": "code",
   "execution_count": 4,
   "metadata": {
    "collapsed": false
   },
   "outputs": [
    {
     "name": "stdout",
     "output_type": "stream",
     "text": [
      "times2(3) = 6\n",
      "times2_actor(3) = 6\n"
     ]
    }
   ],
   "source": [
    "x = 3\n",
    "print('times2({}) = {}'.format(x, times2(x)))\n",
    "print('times2_actor({}) = {}'.format(x, times2_actor(x)))\n",
    "assert times2(x) == times2_actor(x)"
   ]
  },
  {
   "cell_type": "markdown",
   "metadata": {},
   "source": [
    "## From actors to workflows\n",
    "\n",
    "1. Workflows are created by connecting actor ports (input ports to output ports).\n",
    "2. Ports get connected using the **`+=`** operator (`inport += outport`).\n",
    "\n",
    "*Better workflow creation will be implemented soon. `Actor.get_workflow` will create a workflow *automagically*. It will also be possible to create wokflows *explicitely*, e.g. in cases when `get_workflow` cannot be used.* "
   ]
  },
  {
   "cell_type": "markdown",
   "metadata": {},
   "source": [
    "### Two actors chained together\n",
    "\n",
    "Let's try something like `x -> actor1 -> actor2 -> out`."
   ]
  },
  {
   "cell_type": "code",
   "execution_count": 5,
   "metadata": {
    "collapsed": false
   },
   "outputs": [],
   "source": [
    "# create two FuncActors\n",
    "actor1 = FuncActor(lambda x: x * 2)\n",
    "actor2 = FuncActor(lambda x: x + 1)\n",
    "\n",
    "# chain the actors\n",
    "# FuncActor output port is by default called out\n",
    "actor2.inports['x'] += actor1.outports['out']"
   ]
  },
  {
   "cell_type": "markdown",
   "metadata": {},
   "source": [
    "Get the resulting workflow."
   ]
  },
  {
   "cell_type": "code",
   "execution_count": 6,
   "metadata": {
    "collapsed": false
   },
   "outputs": [],
   "source": [
    "wf = actor1.get_workflow()"
   ]
  },
  {
   "cell_type": "markdown",
   "metadata": {},
   "source": [
    "Execute the workflow just like an actor."
   ]
  },
  {
   "cell_type": "code",
   "execution_count": 7,
   "metadata": {
    "collapsed": false
   },
   "outputs": [
    {
     "data": {
      "text/plain": [
       "{'out': deque([7])}"
      ]
     },
     "execution_count": 7,
     "metadata": {},
     "output_type": "execute_result"
    }
   ],
   "source": [
    "wf(x=3)"
   ]
  }
 ],
 "metadata": {
  "kernelspec": {
   "display_name": "Python 3",
   "language": "python",
   "name": "python3"
  },
  "language_info": {
   "codemirror_mode": {
    "name": "ipython",
    "version": 3
   },
   "file_extension": ".py",
   "mimetype": "text/x-python",
   "name": "python",
   "nbconvert_exporter": "python",
   "pygments_lexer": "ipython3",
   "version": "3.4.3"
  }
 },
 "nbformat": 4,
 "nbformat_minor": 0
}
